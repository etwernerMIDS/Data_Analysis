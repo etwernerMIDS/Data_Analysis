{
 "cells": [
  {
   "cell_type": "markdown",
   "metadata": {},
   "source": [
    "# MNIST Convolutional Neural Net"
   ]
  },
  {
   "cell_type": "markdown",
   "metadata": {},
   "source": [
    "## Erin Werner"
   ]
  },
  {
   "cell_type": "markdown",
   "metadata": {},
   "source": [
    "### Step 1: Load Libraries"
   ]
  },
  {
   "cell_type": "code",
   "execution_count": 7,
   "metadata": {},
   "outputs": [],
   "source": [
    "import numpy as np\n",
    "import urllib\n",
    "import scipy.optimize\n",
    "import random\n",
    "import matplotlib.pyplot as plt\n",
    "from collections import Counter\n",
    "import statistics\n",
    "from operator import itemgetter\n",
    "import json\n",
    "from sklearn.metrics import mean_squared_error\n",
    "from sklearn import svm\n",
    "import math\n",
    "from sklearn.utils import shuffle\n",
    "import pandas as pd\n",
    "from sklearn import datasets\n",
    "from mlxtend.plotting import plot_decision_regions"
   ]
  },
  {
   "cell_type": "code",
   "execution_count": 2,
   "metadata": {},
   "outputs": [],
   "source": [
    "import torch\n",
    "import torch.nn as nn\n",
    "import torchvision\n",
    "import torchvision.transforms as transforms\n",
    "import torch.nn.functional as F\n",
    "import torch.utils.data\n",
    "from torch.autograd import Variable"
   ]
  },
  {
   "cell_type": "markdown",
   "metadata": {},
   "source": [
    "### Step 2: Load & Transform Data"
   ]
  },
  {
   "cell_type": "code",
   "execution_count": 3,
   "metadata": {},
   "outputs": [],
   "source": [
    "device = torch.device('cuda:0' if torch.cuda.is_available() else \"cpu\")"
   ]
  },
  {
   "cell_type": "code",
   "execution_count": 357,
   "metadata": {},
   "outputs": [],
   "source": [
    "my_test = np.load(\"/Users/erinwerner/Downloads/ucsd-2019wi-cse151b-1/test/X_test_10k.npy\")\n",
    "X_train = np.load(\"/Users/erinwerner/Downloads/ucsd-2019wi-cse151b-1/train/X_train.npy\")\n",
    "y_train = np.load(\"/Users/erinwerner/Downloads/ucsd-2019wi-cse151b-1/train/y_train.npy\")"
   ]
  },
  {
   "cell_type": "code",
   "execution_count": 358,
   "metadata": {},
   "outputs": [],
   "source": [
    "reshape_Xtrain = []\n",
    "for mnist in X_train:\n",
    "    tmp = mnist.reshape((28, 28))\n",
    "    reshape_Xtrain.append([tmp])"
   ]
  },
  {
   "cell_type": "code",
   "execution_count": 359,
   "metadata": {},
   "outputs": [],
   "source": [
    "X_train = np.asarray(reshape_Xtrain)#, dtype = 'float64')"
   ]
  },
  {
   "cell_type": "code",
   "execution_count": 360,
   "metadata": {},
   "outputs": [],
   "source": [
    "X_train = X_train.astype(np.float64)"
   ]
  },
  {
   "cell_type": "code",
   "execution_count": 361,
   "metadata": {},
   "outputs": [],
   "source": [
    "reshape_test = []\n",
    "for mnist in my_test:\n",
    "    tmp = mnist.reshape((28,28))\n",
    "    reshape_test.append([tmp])"
   ]
  },
  {
   "cell_type": "code",
   "execution_count": 362,
   "metadata": {},
   "outputs": [],
   "source": [
    "my_test = np.asarray(reshape_test)\n",
    "my_test = my_test.astype(np.float64)"
   ]
  },
  {
   "cell_type": "code",
   "execution_count": 363,
   "metadata": {},
   "outputs": [],
   "source": [
    "dummy_y = list(range(len(test)))\n",
    "dummy_y = np.asarray(dummy_y)"
   ]
  },
  {
   "cell_type": "markdown",
   "metadata": {},
   "source": [
    "### Step 3: Initialize CNN Input"
   ]
  },
  {
   "cell_type": "code",
   "execution_count": 238,
   "metadata": {},
   "outputs": [],
   "source": [
    "num_epochs = 10\n",
    "num_classes = 10\n",
    "batch_size = 100\n",
    "learning_rate = 0.001"
   ]
  },
  {
   "cell_type": "code",
   "execution_count": 257,
   "metadata": {},
   "outputs": [],
   "source": [
    "torch_X_train = torch.from_numpy(X_train).type(torch.LongTensor)\n",
    "torch_y_train = torch.from_numpy(y_train).type(torch.LongTensor) # data type is long"
   ]
  },
  {
   "cell_type": "code",
   "execution_count": 242,
   "metadata": {},
   "outputs": [],
   "source": [
    "train = torch.utils.data.TensorDataset(torch_X_train,torch_y_train)"
   ]
  },
  {
   "cell_type": "code",
   "execution_count": 243,
   "metadata": {},
   "outputs": [],
   "source": [
    "train_loader = torch.utils.data.DataLoader(dataset = train, batch_size = batch_size, shuffle = False)"
   ]
  },
  {
   "cell_type": "code",
   "execution_count": 429,
   "metadata": {},
   "outputs": [],
   "source": [
    "val_X = X_train[0:30000]\n",
    "val_y = y_train[0:30000]\n",
    "\n",
    "torch_X_val = torch.from_numpy(val_X).type(torch.DoubleTensor)\n",
    "torch_y_val = torch.from_numpy(val_y).type(torch.LongTensor)\n",
    "val = torch.utils.data.TensorDataset(torch_X_val,torch_y_val)\n",
    "validation_loader = torch.utils.data.DataLoader(dataset = val, batch_size = batch_size, shuffle = False)"
   ]
  },
  {
   "cell_type": "markdown",
   "metadata": {},
   "source": [
    "### Step 4: Create 3-Layer CNN Model\n",
    "\n",
    "This 3-Layer CNN Model will serve as a baseline model for comparison."
   ]
  },
  {
   "cell_type": "code",
   "execution_count": 244,
   "metadata": {},
   "outputs": [],
   "source": [
    "class ConvNet(nn.Module):\n",
    "    def __init__(self, num_classes=10):\n",
    "        super(ConvNet, self).__init__()\n",
    "        self.layer1 = nn.Sequential(\n",
    "            nn.Conv2d(1,16,kernel_size=5,stride=1,padding=2),\n",
    "            nn.BatchNorm2d(16),\n",
    "            nn.ReLU(),\n",
    "            nn.MaxPool2d(kernel_size=2, stride=2))\n",
    "        self.layer2 = nn.Sequential(\n",
    "            nn.Conv2d(16,32,kernel_size=5,stride=1,padding=2),\n",
    "            nn.BatchNorm2d(32),\n",
    "            nn.ReLU(),\n",
    "            nn.MaxPool2d(kernel_size=2,stride=2))\n",
    "        self.fc = nn.Linear(7*7*32,num_classes)\n",
    "        \n",
    "    def forward(self,x):\n",
    "        out = self.layer1(x)\n",
    "        out = self.layer2(out)\n",
    "        out = out.reshape(out.size(0),-1)\n",
    "        out = self.fc(out)\n",
    "        return(out)"
   ]
  },
  {
   "cell_type": "code",
   "execution_count": 263,
   "metadata": {},
   "outputs": [
    {
     "name": "stdout",
     "output_type": "stream",
     "text": [
      "Epoch [1/10], Step [100/600], Loss: 1.8491\n",
      "Epoch [1/10], Step [200/600], Loss: 1.6272\n",
      "Epoch [1/10], Step [300/600], Loss: 1.3991\n",
      "Epoch [1/10], Step [400/600], Loss: 1.1686\n",
      "Epoch [1/10], Step [500/600], Loss: 0.9820\n",
      "Epoch [1/10], Step [600/600], Loss: 0.8647\n",
      "Epoch [2/10], Step [100/600], Loss: 0.5661\n",
      "Epoch [2/10], Step [200/600], Loss: 0.6847\n",
      "Epoch [2/10], Step [300/600], Loss: 0.7281\n",
      "Epoch [2/10], Step [400/600], Loss: 0.5911\n",
      "Epoch [2/10], Step [500/600], Loss: 0.5512\n",
      "Epoch [2/10], Step [600/600], Loss: 0.5101\n",
      "Epoch [3/10], Step [100/600], Loss: 0.3033\n",
      "Epoch [3/10], Step [200/600], Loss: 0.4327\n",
      "Epoch [3/10], Step [300/600], Loss: 0.5439\n",
      "Epoch [3/10], Step [400/600], Loss: 0.4208\n",
      "Epoch [3/10], Step [500/600], Loss: 0.3995\n",
      "Epoch [3/10], Step [600/600], Loss: 0.3979\n",
      "Epoch [4/10], Step [100/600], Loss: 0.2122\n",
      "Epoch [4/10], Step [200/600], Loss: 0.3221\n",
      "Epoch [4/10], Step [300/600], Loss: 0.4551\n",
      "Epoch [4/10], Step [400/600], Loss: 0.3385\n",
      "Epoch [4/10], Step [500/600], Loss: 0.3228\n",
      "Epoch [4/10], Step [600/600], Loss: 0.3455\n",
      "Epoch [5/10], Step [100/600], Loss: 0.1674\n",
      "Epoch [5/10], Step [200/600], Loss: 0.2612\n",
      "Epoch [5/10], Step [300/600], Loss: 0.3999\n",
      "Epoch [5/10], Step [400/600], Loss: 0.2862\n",
      "Epoch [5/10], Step [500/600], Loss: 0.2757\n",
      "Epoch [5/10], Step [600/600], Loss: 0.3149\n",
      "Epoch [6/10], Step [100/600], Loss: 0.1411\n",
      "Epoch [6/10], Step [200/600], Loss: 0.2226\n",
      "Epoch [6/10], Step [300/600], Loss: 0.3602\n",
      "Epoch [6/10], Step [400/600], Loss: 0.2482\n",
      "Epoch [6/10], Step [500/600], Loss: 0.2433\n",
      "Epoch [6/10], Step [600/600], Loss: 0.2947\n",
      "Epoch [7/10], Step [100/600], Loss: 0.1233\n",
      "Epoch [7/10], Step [200/600], Loss: 0.1953\n",
      "Epoch [7/10], Step [300/600], Loss: 0.3295\n",
      "Epoch [7/10], Step [400/600], Loss: 0.2191\n",
      "Epoch [7/10], Step [500/600], Loss: 0.2188\n",
      "Epoch [7/10], Step [600/600], Loss: 0.2805\n",
      "Epoch [8/10], Step [100/600], Loss: 0.1098\n",
      "Epoch [8/10], Step [200/600], Loss: 0.1751\n",
      "Epoch [8/10], Step [300/600], Loss: 0.3050\n",
      "Epoch [8/10], Step [400/600], Loss: 0.1954\n",
      "Epoch [8/10], Step [500/600], Loss: 0.1989\n",
      "Epoch [8/10], Step [600/600], Loss: 0.2695\n",
      "Epoch [9/10], Step [100/600], Loss: 0.0990\n",
      "Epoch [9/10], Step [200/600], Loss: 0.1593\n",
      "Epoch [9/10], Step [300/600], Loss: 0.2846\n",
      "Epoch [9/10], Step [400/600], Loss: 0.1754\n",
      "Epoch [9/10], Step [500/600], Loss: 0.1824\n",
      "Epoch [9/10], Step [600/600], Loss: 0.2611\n",
      "Epoch [10/10], Step [100/600], Loss: 0.0904\n",
      "Epoch [10/10], Step [200/600], Loss: 0.1464\n",
      "Epoch [10/10], Step [300/600], Loss: 0.2673\n",
      "Epoch [10/10], Step [400/600], Loss: 0.1590\n",
      "Epoch [10/10], Step [500/600], Loss: 0.1687\n",
      "Epoch [10/10], Step [600/600], Loss: 0.2542\n"
     ]
    }
   ],
   "source": [
    "model = ConvNet()\n",
    "model = model.double()\n",
    "criterion = nn.CrossEntropyLoss()\n",
    "optimizer = torch.optim.SGD(model.parameters(), lr=learning_rate)\n",
    "\n",
    "training_loss = []\n",
    "\n",
    "total_step = len(train_loader)\n",
    "for epoch in range(num_epochs):\n",
    "    for i, (images,labels) in enumerate(train_loader):\n",
    "        images = images.to(device)\n",
    "        labels = labels.to(device)\n",
    "\n",
    "        outputs = model(images)\n",
    "        loss = criterion(outputs,Variable(labels.long()))\n",
    "        optimizer.zero_grad()\n",
    "        loss.backward()\n",
    "        optimizer.step()\n",
    "\n",
    "        if (i+1)%100 == 0:\n",
    "            training_loss.append(loss.item())\n",
    "            print('Epoch [{}/{}], Step [{}/{}], Loss: {:.4f}'.format(epoch+1,num_epochs,i+1,total_step,loss.item()))"
   ]
  },
  {
   "cell_type": "code",
   "execution_count": 266,
   "metadata": {},
   "outputs": [],
   "source": [
    "iter = [1,2,3,4,5,6,7,8,9,10,\n",
    "       11,12,13,14,15,16,17,18,19,20,\n",
    "       21,22,23,24,25,26,27,28,29,30,\n",
    "       31,32,33,34,35,36,37,38,39,40,\n",
    "       41,42,43,44,45,46,47,48,49,50,\n",
    "       51,52,53,54,55,56,57,58,59,60]"
   ]
  },
  {
   "cell_type": "code",
   "execution_count": 267,
   "metadata": {},
   "outputs": [
    {
     "data": {
      "text/plain": [
       "[<matplotlib.lines.Line2D at 0x11f4957f0>]"
      ]
     },
     "execution_count": 267,
     "metadata": {},
     "output_type": "execute_result"
    },
    {
     "data": {
      "image/png": "[encoded data removed]",
      "text/plain": [
       "<Figure size 432x288 with 1 Axes>"
      ]
     },
     "metadata": {
      "needs_background": "light"
     },
     "output_type": "display_data"
    }
   ],
   "source": [
    "plt.plot(iter,training_loss)"
   ]
  },
  {
   "cell_type": "markdown",
   "metadata": {},
   "source": [
    "### Step 5: Create 4-Layer CNN Model"
   ]
  },
  {
   "cell_type": "code",
   "execution_count": 426,
   "metadata": {},
   "outputs": [],
   "source": [
    "num_epochs = 10\n",
    "num_classes = 10\n",
    "batch_size = 100\n",
    "learning_rate = 0.001"
   ]
  },
  {
   "cell_type": "code",
   "execution_count": 427,
   "metadata": {},
   "outputs": [],
   "source": [
    "class myConvNet(nn.Module):\n",
    "    def __init__(self, num_classes=10):\n",
    "        super(myConvNet, self).__init__()\n",
    "        self.layer1 = nn.Sequential(\n",
    "            nn.Conv2d(1,32,kernel_size=5,stride=1,padding=2),\n",
    "            nn.BatchNorm2d(32),\n",
    "            nn.ReLU(),\n",
    "            nn.MaxPool2d(kernel_size=2, stride=2))\n",
    "        self.layer2 = nn.Sequential(\n",
    "            nn.Conv2d(32,32,kernel_size=5,stride=1,padding=2),\n",
    "            nn.BatchNorm2d(32),\n",
    "            nn.ReLU(),\n",
    "            nn.MaxPool2d(kernel_size=2,stride=2))\n",
    "        self.layer3 = nn.Sequential(\n",
    "            nn.Conv2d(32,64,kernel_size=5,stride=1,padding=2),\n",
    "            nn.BatchNorm2d(64),\n",
    "            nn.ReLU(),\n",
    "            nn.MaxPool2d(kernel_size=2,stride=2))\n",
    "        self.fc = nn.Linear(3*3*64,num_classes)\n",
    "        \n",
    "    def forward(self,x):\n",
    "        out = self.layer1(x)\n",
    "        out = self.layer2(out)\n",
    "        out = self.layer3(out)\n",
    "        out = out.reshape(out.size(0),-1)\n",
    "        out = self.fc(out)\n",
    "        return(out)"
   ]
  },
  {
   "cell_type": "code",
   "execution_count": 277,
   "metadata": {},
   "outputs": [
    {
     "name": "stdout",
     "output_type": "stream",
     "text": [
      "Epoch [1/10], Step [600/600], Loss: 0.7658\n",
      "Epoch [2/10], Step [600/600], Loss: 0.4517\n",
      "Epoch [3/10], Step [600/600], Loss: 0.3414\n",
      "Epoch [4/10], Step [600/600], Loss: 0.2866\n",
      "Epoch [5/10], Step [600/600], Loss: 0.2550\n",
      "Epoch [6/10], Step [600/600], Loss: 0.2347\n",
      "Epoch [7/10], Step [600/600], Loss: 0.2210\n",
      "Epoch [8/10], Step [600/600], Loss: 0.2111\n",
      "Epoch [9/10], Step [600/600], Loss: 0.2038\n",
      "Epoch [10/10], Step [600/600], Loss: 0.1980\n"
     ]
    }
   ],
   "source": [
    "model = myConvNet()\n",
    "model = model.double()\n",
    "criterion = nn.CrossEntropyLoss()\n",
    "optimizer = torch.optim.SGD(model.parameters(), lr=learning_rate)\n",
    "\n",
    "my_training_loss = []\n",
    "\n",
    "total_step = len(train_loader)\n",
    "for epoch in range(num_epochs):\n",
    "    for i, (images,labels) in enumerate(train_loader):\n",
    "        images = images.to(device)\n",
    "        labels = labels.to(device)\n",
    "\n",
    "        outputs = model(images)\n",
    "        loss = criterion(outputs,Variable(labels.long()))\n",
    "        optimizer.zero_grad()\n",
    "        loss.backward()\n",
    "        optimizer.step()\n",
    "\n",
    "        if (i+1)%600 == 0:\n",
    "            my_training_loss.append(loss.item())\n",
    "            print('Epoch [{}/{}], Step [{}/{}], Loss: {:.4f}'.format(epoch+1,num_epochs,i+1,total_step,loss.item()))"
   ]
  },
  {
   "cell_type": "code",
   "execution_count": 278,
   "metadata": {},
   "outputs": [],
   "source": [
    "iter = [1,2,3,4,5,6,7,8,9,10]"
   ]
  },
  {
   "cell_type": "code",
   "execution_count": 280,
   "metadata": {},
   "outputs": [
    {
     "data": {
      "text/plain": [
       "[<matplotlib.lines.Line2D at 0x11f656eb8>]"
      ]
     },
     "execution_count": 280,
     "metadata": {},
     "output_type": "execute_result"
    },
    {
     "data": {
      "image/png": "[encoded data removed]",
      "text/plain": [
       "<Figure size 432x288 with 1 Axes>"
      ]
     },
     "metadata": {
      "needs_background": "light"
     },
     "output_type": "display_data"
    }
   ],
   "source": [
    "plt.plot(iter,my_training_loss)"
   ]
  },
  {
   "cell_type": "code",
   "execution_count": 339,
   "metadata": {},
   "outputs": [],
   "source": [
    "def create_submission(predictions, fname=\"submission.csv\"):\n",
    "    \"\"\"\n",
    "            `predictions` - numpy array of dimension (n_samples,)\n",
    "    \"\"\"\n",
    "    with open(fname, 'w') as f:\n",
    "        f.write(\"Id,Category\")\n",
    "        for idx,yhat in enumerate(predictions):\n",
    "            f.write(\"\\n{},{}\".format(idx,yhat))"
   ]
  },
  {
   "cell_type": "code",
   "execution_count": 364,
   "metadata": {},
   "outputs": [],
   "source": [
    "torch_X_test = torch.from_numpy(my_test).type(torch.DoubleTensor) # data type is long\n",
    "torch_y_test = torch.from_numpy(dummy_y).type(torch.LongTensor)\n",
    "test = torch.utils.data.TensorDataset(torch_X_test,torch_y_test)\n",
    "test_loader = torch.utils.data.DataLoader(dataset = test, batch_size = batch_size, shuffle = False)"
   ]
  },
  {
   "cell_type": "code",
   "execution_count": 367,
   "metadata": {},
   "outputs": [],
   "source": [
    "test_predictions = []\n",
    "for i, (images,labels) in enumerate(test_loader):\n",
    "    images = images.to(device)\n",
    "    \n",
    "    outputs = model(images)\n",
    "    \n",
    "    _, predicted = torch.max(outputs.data,1)\n",
    "    test_predictions.append(predicted)"
   ]
  },
  {
   "cell_type": "code",
   "execution_count": 381,
   "metadata": {},
   "outputs": [],
   "source": [
    "my_predictions = []\n",
    "for tf in test_predictions:\n",
    "    for val in tf:\n",
    "        my_predictions.append(val.item())"
   ]
  },
  {
   "cell_type": "code",
   "execution_count": 383,
   "metadata": {},
   "outputs": [],
   "source": [
    "create_submission(my_predictions, fname=\"werner_submission.csv\") #96% Test Accuracy"
   ]
  },
  {
   "cell_type": "code",
   "execution_count": 433,
   "metadata": {},
   "outputs": [
    {
     "name": "stdout",
     "output_type": "stream",
     "text": [
      "Epoch [1/10], Step [300/300], Loss: 1.4418\n",
      "Epoch [2/10], Step [300/300], Loss: 0.9053\n",
      "Epoch [3/10], Step [300/300], Loss: 0.6481\n",
      "Epoch [4/10], Step [300/300], Loss: 0.5073\n",
      "Epoch [5/10], Step [300/300], Loss: 0.4206\n",
      "Epoch [6/10], Step [300/300], Loss: 0.3613\n",
      "Epoch [7/10], Step [300/300], Loss: 0.3186\n",
      "Epoch [8/10], Step [300/300], Loss: 0.2859\n",
      "Epoch [9/10], Step [300/300], Loss: 0.2606\n",
      "Epoch [10/10], Step [300/300], Loss: 0.2406\n"
     ]
    }
   ],
   "source": [
    "model = myConvNet()\n",
    "model = model.double()\n",
    "criterion = nn.CrossEntropyLoss()\n",
    "optimizer = torch.optim.SGD(model.parameters(), lr=learning_rate)\n",
    "\n",
    "my_val_loss = []\n",
    "\n",
    "total_step = len(validation_loader)\n",
    "for epoch in range(num_epochs):\n",
    "    for i, (images,labels) in enumerate(validation_loader):\n",
    "        images = images.to(device)\n",
    "        labels = labels.to(device)\n",
    "\n",
    "        outputs = model(images)\n",
    "        loss = criterion(outputs,Variable(labels.long()))\n",
    "        optimizer.zero_grad()\n",
    "        loss.backward()\n",
    "        optimizer.step()\n",
    "\n",
    "        if (i+1)%300 == 0:\n",
    "            my_val_loss.append(loss.item())\n",
    "            print('Epoch [{}/{}], Step [{}/{}], Loss: {:.4f}'.format(epoch+1,num_epochs,i+1,total_step,loss.item()))"
   ]
  },
  {
   "cell_type": "code",
   "execution_count": 434,
   "metadata": {},
   "outputs": [
    {
     "data": {
      "text/plain": [
       "[<matplotlib.lines.Line2D at 0x13d87f2e8>]"
      ]
     },
     "execution_count": 434,
     "metadata": {},
     "output_type": "execute_result"
    },
    {
     "data": {
      "image/png": "[encoded data removed]",
      "text/plain": [
       "<Figure size 432x288 with 1 Axes>"
      ]
     },
     "metadata": {
      "needs_background": "light"
     },
     "output_type": "display_data"
    }
   ],
   "source": [
    "plt.plot(iter,my_val_loss)"
   ]
  },
  {
   "cell_type": "code",
   "execution_count": 435,
   "metadata": {},
   "outputs": [],
   "source": [
    "cnn_loss = pd.DataFrame(\n",
    "    {'Epoch': iter,\n",
    "     'Training Loss': my_training_loss,\n",
    "     'Validation Loss': my_val_loss\n",
    "    })"
   ]
  },
  {
   "cell_type": "code",
   "execution_count": 436,
   "metadata": {},
   "outputs": [
    {
     "data": {
      "text/plain": [
       "<matplotlib.legend.Legend at 0x14485ba58>"
      ]
     },
     "execution_count": 436,
     "metadata": {},
     "output_type": "execute_result"
    },
    {
     "data": {
      "image/png": "[encoded data removed]",
      "text/plain": [
       "<Figure size 432x288 with 1 Axes>"
      ]
     },
     "metadata": {
      "needs_background": "light"
     },
     "output_type": "display_data"
    }
   ],
   "source": [
    "plt.plot( 'Epoch', 'Training Loss', data=cnn_loss, color='skyblue', linewidth=2)\n",
    "plt.plot( 'Epoch', 'Validation Loss', data=cnn_loss, color='red', linewidth=2)\n",
    "plt.legend()"
   ]
  },
  {
   "cell_type": "markdown",
   "metadata": {},
   "source": [
    "### Step 6: Create 2-Layer CNN Model"
   ]
  },
  {
   "cell_type": "code",
   "execution_count": 444,
   "metadata": {},
   "outputs": [],
   "source": [
    "num_epochs = 10\n",
    "num_classes = 10\n",
    "batch_size = 100\n",
    "learning_rate = 0.001"
   ]
  },
  {
   "cell_type": "code",
   "execution_count": 445,
   "metadata": {},
   "outputs": [],
   "source": [
    "X_t = X_train[30000:60000]\n",
    "y_t = y_train[30000:60000]\n",
    "\n",
    "torch_X_train = torch.from_numpy(X_t).type(torch.DoubleTensor)\n",
    "torch_y_train = torch.from_numpy(y_t).type(torch.LongTensor) # data type is long\n",
    "train = torch.utils.data.TensorDataset(torch_X_train,torch_y_train)\n",
    "train_loader = torch.utils.data.DataLoader(dataset = train, batch_size = batch_size, shuffle = False)"
   ]
  },
  {
   "cell_type": "code",
   "execution_count": 446,
   "metadata": {},
   "outputs": [],
   "source": [
    "val_X = X_train[0:30000]\n",
    "val_y = y_train[0:30000]\n",
    "\n",
    "torch_X_val = torch.from_numpy(val_X).type(torch.DoubleTensor)\n",
    "torch_y_val = torch.from_numpy(val_y).type(torch.LongTensor)\n",
    "val = torch.utils.data.TensorDataset(torch_X_val,torch_y_val)\n",
    "validation_loader = torch.utils.data.DataLoader(dataset = val, batch_size = batch_size, shuffle = False)"
   ]
  },
  {
   "cell_type": "code",
   "execution_count": 467,
   "metadata": {},
   "outputs": [],
   "source": [
    "class myShallowConvNet(nn.Module):\n",
    "    def __init__(self, num_classes=10):\n",
    "        super(myShallowConvNet, self).__init__()\n",
    "        self.layer1 = nn.Sequential(\n",
    "            nn.Conv2d(1,32,kernel_size=5,stride=1,padding=2),\n",
    "            nn.BatchNorm2d(32),\n",
    "            nn.ReLU(),\n",
    "            nn.MaxPool2d(kernel_size=2, stride=2))\n",
    "        self.fc = nn.Linear(14*14*32,num_classes)\n",
    "        \n",
    "    def forward(self,x):\n",
    "        out = self.layer1(x)\n",
    "        out = out.reshape(out.size(0),-1)\n",
    "        out = self.fc(out)\n",
    "        return(out)"
   ]
  },
  {
   "cell_type": "code",
   "execution_count": 468,
   "metadata": {},
   "outputs": [
    {
     "name": "stdout",
     "output_type": "stream",
     "text": [
      "Epoch [1/10], Step [300/300], Loss: 0.8391\n",
      "Epoch [2/10], Step [300/300], Loss: 0.5759\n",
      "Epoch [3/10], Step [300/300], Loss: 0.4716\n",
      "Epoch [4/10], Step [300/300], Loss: 0.4148\n",
      "Epoch [5/10], Step [300/300], Loss: 0.3784\n",
      "Epoch [6/10], Step [300/300], Loss: 0.3525\n",
      "Epoch [7/10], Step [300/300], Loss: 0.3329\n",
      "Epoch [8/10], Step [300/300], Loss: 0.3174\n",
      "Epoch [9/10], Step [300/300], Loss: 0.3048\n",
      "Epoch [10/10], Step [300/300], Loss: 0.2941\n"
     ]
    }
   ],
   "source": [
    "model = myShallowConvNet()\n",
    "model = model.double()\n",
    "criterion = nn.CrossEntropyLoss()\n",
    "optimizer = torch.optim.SGD(model.parameters(), lr=learning_rate)\n",
    "\n",
    "my_shallow_training_loss = []\n",
    "\n",
    "total_step = len(train_loader)\n",
    "for epoch in range(num_epochs):\n",
    "    for i, (images,labels) in enumerate(train_loader):\n",
    "        images = images.to(device)\n",
    "        labels = labels.to(device)\n",
    "\n",
    "        outputs = model(images)\n",
    "        loss = criterion(outputs,Variable(labels.long()))\n",
    "        optimizer.zero_grad()\n",
    "        loss.backward()\n",
    "        optimizer.step()\n",
    "\n",
    "        if (i+1)%300 == 0:\n",
    "            my_shallow_training_loss.append(loss.item())\n",
    "            print('Epoch [{}/{}], Step [{}/{}], Loss: {:.4f}'.format(epoch+1,num_epochs,i+1,total_step,loss.item()))"
   ]
  },
  {
   "cell_type": "code",
   "execution_count": 469,
   "metadata": {},
   "outputs": [
    {
     "data": {
      "text/plain": [
       "[<matplotlib.lines.Line2D at 0x13d8947f0>]"
      ]
     },
     "execution_count": 469,
     "metadata": {},
     "output_type": "execute_result"
    },
    {
     "data": {
      "image/png": "[encoded data removed]",
      "text/plain": [
       "<Figure size 432x288 with 1 Axes>"
      ]
     },
     "metadata": {
      "needs_background": "light"
     },
     "output_type": "display_data"
    }
   ],
   "source": [
    "plt.plot(iter,my_shallow_training_loss)"
   ]
  },
  {
   "cell_type": "code",
   "execution_count": 470,
   "metadata": {},
   "outputs": [],
   "source": [
    "test_shallow_predictions = []\n",
    "for i, (images,labels) in enumerate(test_loader):\n",
    "    images = images.to(device)\n",
    "    \n",
    "    outputs = model(images)\n",
    "    \n",
    "    _, predicted = torch.max(outputs.data,1)\n",
    "    test_shallow_predictions.append(predicted)"
   ]
  },
  {
   "cell_type": "code",
   "execution_count": 471,
   "metadata": {},
   "outputs": [],
   "source": [
    "my_shallow_predictions = []\n",
    "for tf in test_shallow_predictions:\n",
    "    for val in tf:\n",
    "        my_shallow_predictions.append(val.item())"
   ]
  },
  {
   "cell_type": "code",
   "execution_count": 472,
   "metadata": {},
   "outputs": [],
   "source": [
    "create_submission(my_shallow_predictions, fname=\"werner_shallow_submission.csv\") #84% Test Accuracy"
   ]
  },
  {
   "cell_type": "code",
   "execution_count": 473,
   "metadata": {},
   "outputs": [
    {
     "name": "stdout",
     "output_type": "stream",
     "text": [
      "Epoch [1/10], Step [300/300], Loss: 0.8682\n",
      "Epoch [2/10], Step [300/300], Loss: 0.6713\n",
      "Epoch [3/10], Step [300/300], Loss: 0.5917\n",
      "Epoch [4/10], Step [300/300], Loss: 0.5441\n",
      "Epoch [5/10], Step [300/300], Loss: 0.5093\n",
      "Epoch [6/10], Step [300/300], Loss: 0.4813\n",
      "Epoch [7/10], Step [300/300], Loss: 0.4573\n",
      "Epoch [8/10], Step [300/300], Loss: 0.4357\n",
      "Epoch [9/10], Step [300/300], Loss: 0.4161\n",
      "Epoch [10/10], Step [300/300], Loss: 0.3981\n"
     ]
    }
   ],
   "source": [
    "model = myShallowConvNet()\n",
    "model = model.double()\n",
    "criterion = nn.CrossEntropyLoss()\n",
    "optimizer = torch.optim.SGD(model.parameters(), lr=learning_rate)\n",
    "\n",
    "my_shallow_val_loss = []\n",
    "\n",
    "total_step = len(validation_loader)\n",
    "for epoch in range(num_epochs):\n",
    "    for i, (images,labels) in enumerate(validation_loader):\n",
    "        images = images.to(device)\n",
    "        labels = labels.to(device)\n",
    "\n",
    "        outputs = model(images)\n",
    "        loss = criterion(outputs,Variable(labels.long()))\n",
    "        optimizer.zero_grad()\n",
    "        loss.backward()\n",
    "        optimizer.step()\n",
    "\n",
    "        if (i+1)%300 == 0:\n",
    "            my_shallow_val_loss.append(loss.item())\n",
    "            print('Epoch [{}/{}], Step [{}/{}], Loss: {:.4f}'.format(epoch+1,num_epochs,i+1,total_step,loss.item()))"
   ]
  },
  {
   "cell_type": "code",
   "execution_count": 474,
   "metadata": {},
   "outputs": [
    {
     "data": {
      "text/plain": [
       "[<matplotlib.lines.Line2D at 0x14103d828>]"
      ]
     },
     "execution_count": 474,
     "metadata": {},
     "output_type": "execute_result"
    },
    {
     "data": {
      "image/png": "[encoded data removed]",
      "text/plain": [
       "<Figure size 432x288 with 1 Axes>"
      ]
     },
     "metadata": {
      "needs_background": "light"
     },
     "output_type": "display_data"
    }
   ],
   "source": [
    "plt.plot(iter,my_shallow_val_loss)"
   ]
  },
  {
   "cell_type": "code",
   "execution_count": 475,
   "metadata": {},
   "outputs": [],
   "source": [
    "cnn_shallow_loss = pd.DataFrame(\n",
    "    {'Epoch': iter,\n",
    "     'Training Loss': my_shallow_training_loss,\n",
    "     'Validation Loss': my_shallow_val_loss\n",
    "    })"
   ]
  },
  {
   "cell_type": "code",
   "execution_count": 476,
   "metadata": {},
   "outputs": [
    {
     "data": {
      "text/plain": [
       "<matplotlib.legend.Legend at 0x11f73eeb8>"
      ]
     },
     "execution_count": 476,
     "metadata": {},
     "output_type": "execute_result"
    },
    {
     "data": {
      "image/png": "[encoded data removed]",
      "text/plain": [
       "<Figure size 432x288 with 1 Axes>"
      ]
     },
     "metadata": {
      "needs_background": "light"
     },
     "output_type": "display_data"
    }
   ],
   "source": [
    "plt.plot( 'Epoch', 'Training Loss', data=cnn_shallow_loss, color='skyblue', linewidth=2)\n",
    "plt.plot( 'Epoch', 'Validation Loss', data=cnn_shallow_loss, color='red', linewidth=2)\n",
    "plt.legend()"
   ]
  }
 ],
 "metadata": {
  "kernelspec": {
   "display_name": "Python 3",
   "language": "python",
   "name": "python3"
  },
  "language_info": {
   "codemirror_mode": {
    "name": "ipython",
    "version": 3
   },
   "file_extension": ".py",
   "mimetype": "text/x-python",
   "name": "python",
   "nbconvert_exporter": "python",
   "pygments_lexer": "ipython3",
   "version": "3.6.8"
  }
 },
 "nbformat": 4,
 "nbformat_minor": 2
}
